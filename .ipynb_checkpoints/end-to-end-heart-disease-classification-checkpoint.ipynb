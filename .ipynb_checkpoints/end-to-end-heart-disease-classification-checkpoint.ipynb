{
 "cells": [
  {
   "cell_type": "markdown",
   "id": "0177fd19",
   "metadata": {},
   "source": [
    "## Predicting heart disease using machine learning\n",
    "\n",
    "1. Problem Definition\n",
    "2. Data\n",
    "3. Evaluation\n",
    "4. Features\n",
    "5. Modeling\n",
    "6. Experimentation"
   ]
  },
  {
   "cell_type": "markdown",
   "id": "78174421",
   "metadata": {},
   "source": [
    "### 1. Problem Definition\n",
    "In a statement,\n",
    "> Given clinical parameter about a patient, can we predict whether or not they have heart disease?"
   ]
  },
  {
   "cell_type": "markdown",
   "id": "a5632fea",
   "metadata": {},
   "source": [
    "## 2. Data\n",
    "https://www.kaggle.com/asimislam/heart-disease-uci-eda-and-ml-w-lr?scriptVersionId=37760931&cellId=8\n",
    "\n",
    "The original data came from the Cleavland data from the UCI Machine learning Repo"
   ]
  },
  {
   "cell_type": "markdown",
   "id": "aebf8be8",
   "metadata": {},
   "source": [
    "## 3. Evaluation \n",
    "> 95% accuracy during proof of concept phase will lead to further developments"
   ]
  },
  {
   "cell_type": "markdown",
   "id": "84944fe1",
   "metadata": {},
   "source": [
    "## 4. features\n",
    "Different Information about each of the features in your data.\n",
    "\n",
    "**Create data dictionary**\n",
    "Column Descriptions:\n",
    "\n",
    "id (Unique id for each patient)\n",
    "\n",
    "age (Age of the patient in years)\n",
    "\n",
    "origin (place of study)\n",
    "\n",
    "sex (Male/Female)\n",
    "\n",
    "cp chest pain type ([typical angina, atypical angina, non-anginal, asymptomatic])\n",
    "\n",
    "trestbps resting blood pressure (resting blood pressure (in mm Hg on admission to the hospital))\n",
    "\n",
    "chol (serum cholesterol in mg/dl)\n",
    "\n",
    "fbs (if fasting blood sugar > 120 mg/dl)\n",
    "\n",
    "restecg (resting electrocardiographic results)\n",
    "\n",
    "-- Values: [normal, stt abnormality, lv hypertrophy]\n",
    "\n",
    "thalach: maximum heart rate achieved\n",
    "\n",
    "exang: exercise-induced angina (True/ False)\n",
    "\n",
    "oldpeak: ST depression induced by exercise relative to rest\n",
    "\n",
    "slope: the slope of the peak exercise ST segment\n",
    "\n",
    "ca: number of major vessels (0-3) colored by fluoroscopy\n",
    "\n",
    "thal: [normal; fixed defect; reversible defect]\n",
    "\n",
    "num: the predicted attribute"
   ]
  },
  {
   "cell_type": "markdown",
   "id": "c4038790",
   "metadata": {},
   "source": [
    "## Preparing the tools"
   ]
  },
  {
   "cell_type": "code",
   "execution_count": 8,
   "id": "4060edd3",
   "metadata": {},
   "outputs": [],
   "source": [
    "# Regular EDA (exploratory data analysis) and plotting libraries\n",
    "import numpy as np\n",
    "import pandas as pd\n",
    "import matplotlib.pyplot as plt\n",
    "import seaborn as sns\n",
    "\n",
    "%matplotlib inline\n",
    "\n",
    "# Models from sk-learn\n",
    "from sklearn.linear_model import LogisticRegression\n",
    "from sklearn.neighbors import KNeighborsClassifier\n",
    "from sklearn.ensemble import RandomForestClassifier\n",
    "\n",
    "# Model Evaluation\n",
    "from sklearn.model_selection import train_test_split, cross_val_score\n",
    "from sklearn.model_selection import RandomizedSearchCV, GridSearchCV\n",
    "from sklearn.metrics import confusion_matrix, classification_report\n",
    "from sklearn.metrics import precision_score, recall_score, f1_score\n",
    "from sklearn.metrics import plot_roc_curve"
   ]
  },
  {
   "cell_type": "code",
   "execution_count": null,
   "id": "3842f084",
   "metadata": {},
   "outputs": [],
   "source": []
  }
 ],
 "metadata": {
  "kernelspec": {
   "display_name": "Python 3 (ipykernel)",
   "language": "python",
   "name": "python3"
  },
  "language_info": {
   "codemirror_mode": {
    "name": "ipython",
    "version": 3
   },
   "file_extension": ".py",
   "mimetype": "text/x-python",
   "name": "python",
   "nbconvert_exporter": "python",
   "pygments_lexer": "ipython3",
   "version": "3.9.7"
  }
 },
 "nbformat": 4,
 "nbformat_minor": 5
}
