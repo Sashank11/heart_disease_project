{
 "cells": [
  {
   "cell_type": "markdown",
   "id": "786c68d3",
   "metadata": {},
   "source": [
    "## Predicting heart disease using machine learning"
   ]
  },
  {
   "cell_type": "markdown",
   "id": "9a0c6fff",
   "metadata": {},
   "source": [
    "### 1. Problem Definition\n",
    "In a statement,\n",
    "> Given clinical parameter about a patient, can we predict whether or not they have heart disease?"
   ]
  },
  {
   "cell_type": "markdown",
   "id": "ca4a5c01",
   "metadata": {},
   "source": [
    "## 2. Data\n",
    "https://www.kaggle.com/asimislam/heart-disease-uci-eda-and-ml-w-lr?scriptVersionId=37760931&cellId=8"
   ]
  },
  {
   "cell_type": "markdown",
   "id": "ba52caaf",
   "metadata": {},
   "source": [
    "## 3. Evaluation \n",
    "> 95% accuracy during proof of concept phase will lead to further developments"
   ]
  },
  {
   "cell_type": "markdown",
   "id": "4d19d429",
   "metadata": {},
   "source": [
    "## 4. features\n",
    "Different Information about each of the features in your data.\n",
    "\n",
    "**Create data dictionary**"
   ]
  },
  {
   "cell_type": "code",
   "execution_count": null,
   "id": "3c8712ae",
   "metadata": {},
   "outputs": [],
   "source": []
  }
 ],
 "metadata": {
  "kernelspec": {
   "display_name": "Python 3 (ipykernel)",
   "language": "python",
   "name": "python3"
  },
  "language_info": {
   "codemirror_mode": {
    "name": "ipython",
    "version": 3
   },
   "file_extension": ".py",
   "mimetype": "text/x-python",
   "name": "python",
   "nbconvert_exporter": "python",
   "pygments_lexer": "ipython3",
   "version": "3.9.7"
  }
 },
 "nbformat": 4,
 "nbformat_minor": 5
}
