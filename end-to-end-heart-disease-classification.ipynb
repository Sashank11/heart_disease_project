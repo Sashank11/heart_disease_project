{
 "cells": [
  {
   "cell_type": "markdown",
   "id": "caa753df",
   "metadata": {},
   "source": [
    "## Predicting heart disease using machine learning"
   ]
  },
  {
   "cell_type": "markdown",
   "id": "311c059b",
   "metadata": {},
   "source": [
    "### 1. Problem Definition\n",
    "In a statement,\n",
    "> Given clinical parameter about a patient, can we predict whether or not they have heart disease?"
   ]
  },
  {
   "cell_type": "markdown",
   "id": "0e12b30d",
   "metadata": {},
   "source": [
    "## 2. Data\n",
    "https://www.kaggle.com/asimislam/heart-disease-uci-eda-and-ml-w-lr?scriptVersionId=37760931&cellId=8"
   ]
  },
  {
   "cell_type": "code",
   "execution_count": null,
   "id": "c6bd656c",
   "metadata": {},
   "outputs": [],
   "source": []
  }
 ],
 "metadata": {
  "kernelspec": {
   "display_name": "Python 3 (ipykernel)",
   "language": "python",
   "name": "python3"
  },
  "language_info": {
   "codemirror_mode": {
    "name": "ipython",
    "version": 3
   },
   "file_extension": ".py",
   "mimetype": "text/x-python",
   "name": "python",
   "nbconvert_exporter": "python",
   "pygments_lexer": "ipython3",
   "version": "3.9.7"
  }
 },
 "nbformat": 4,
 "nbformat_minor": 5
}
